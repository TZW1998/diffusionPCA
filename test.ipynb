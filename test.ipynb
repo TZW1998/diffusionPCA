{
 "cells": [
  {
   "cell_type": "code",
   "execution_count": 3,
   "metadata": {},
   "outputs": [],
   "source": [
    "import torch\n",
    "import numpy as np\n",
    "import matplotlib.pyplot as plt\n",
    "from torch.utils.data import DataLoader\n",
    "from torchvision import datasets, transforms\n",
    "# import optimizer\n",
    "from torch.optim import AdamW\n",
    "from mnist_svd import MnistSVD\n",
    "from unet import *"
   ]
  },
  {
   "cell_type": "markdown",
   "metadata": {},
   "source": [
    "# test"
   ]
  },
  {
   "cell_type": "code",
   "execution_count": 2,
   "metadata": {},
   "outputs": [
    {
     "ename": "KeyboardInterrupt",
     "evalue": "",
     "output_type": "error",
     "traceback": [
      "\u001b[0;31m---------------------------------------------------------------------------\u001b[0m",
      "\u001b[0;31mKeyboardInterrupt\u001b[0m                         Traceback (most recent call last)",
      "\u001b[1;32m/home/zhiwei/research_dev/diffusionPCA/test.ipynb Cell 3\u001b[0m in \u001b[0;36m<cell line: 1>\u001b[0;34m()\u001b[0m\n\u001b[0;32m----> <a href='vscode-notebook-cell://ssh-remote%2Bzhiwei0/home/zhiwei/research_dev/diffusionPCA/test.ipynb#X15sdnNjb2RlLXJlbW90ZQ%3D%3D?line=0'>1</a>\u001b[0m mnist \u001b[39m=\u001b[39m MnistSVD(\u001b[39m\"\u001b[39;49m\u001b[39mdata\u001b[39;49m\u001b[39m\"\u001b[39;49m)\n\u001b[1;32m      <a href='vscode-notebook-cell://ssh-remote%2Bzhiwei0/home/zhiwei/research_dev/diffusionPCA/test.ipynb#X15sdnNjb2RlLXJlbW90ZQ%3D%3D?line=1'>2</a>\u001b[0m mnist_test \u001b[39m=\u001b[39m MnistSVD(\u001b[39m\"\u001b[39m\u001b[39mdata\u001b[39m\u001b[39m\"\u001b[39m, train\u001b[39m=\u001b[39m\u001b[39mFalse\u001b[39;00m)\n\u001b[1;32m      <a href='vscode-notebook-cell://ssh-remote%2Bzhiwei0/home/zhiwei/research_dev/diffusionPCA/test.ipynb#X15sdnNjb2RlLXJlbW90ZQ%3D%3D?line=3'>4</a>\u001b[0m U, S, Vh, label \u001b[39m=\u001b[39m mnist[np\u001b[39m.\u001b[39mrandom\u001b[39m.\u001b[39mrandint(\u001b[39mlen\u001b[39m(mnist))]\n",
      "File \u001b[0;32m~/research_dev/diffusionPCA/mnist_svd.py:23\u001b[0m, in \u001b[0;36mMnistSVD.__init__\u001b[0;34m(self, image_paths, train, train_preprocess)\u001b[0m\n\u001b[1;32m     21\u001b[0m \u001b[39melse\u001b[39;00m:\n\u001b[1;32m     22\u001b[0m     \u001b[39mwith\u001b[39;00m \u001b[39mopen\u001b[39m(image_data_paths, \u001b[39m'\u001b[39m\u001b[39mrb\u001b[39m\u001b[39m'\u001b[39m) \u001b[39mas\u001b[39;00m f:\n\u001b[0;32m---> 23\u001b[0m         \u001b[39mself\u001b[39m\u001b[39m.\u001b[39mmnist_data \u001b[39m=\u001b[39m pickle\u001b[39m.\u001b[39;49mload(f)\n\u001b[1;32m     24\u001b[0m     \u001b[39mprint\u001b[39m(\u001b[39m\"\u001b[39m\u001b[39mDone!\u001b[39m\u001b[39m\"\u001b[39m)\n\u001b[1;32m     26\u001b[0m \u001b[39mself\u001b[39m\u001b[39m.\u001b[39mtrain_preprocess \u001b[39m=\u001b[39m train_preprocess\n",
      "File \u001b[0;32m~/anaconda3/envs/diffussion/lib/python3.9/site-packages/torch/storage.py:222\u001b[0m, in \u001b[0;36m_load_from_bytes\u001b[0;34m(b)\u001b[0m\n\u001b[1;32m    221\u001b[0m \u001b[39mdef\u001b[39;00m \u001b[39m_load_from_bytes\u001b[39m(b):\n\u001b[0;32m--> 222\u001b[0m     \u001b[39mreturn\u001b[39;00m torch\u001b[39m.\u001b[39;49mload(io\u001b[39m.\u001b[39;49mBytesIO(b))\n",
      "File \u001b[0;32m~/anaconda3/envs/diffussion/lib/python3.9/site-packages/torch/serialization.py:713\u001b[0m, in \u001b[0;36mload\u001b[0;34m(f, map_location, pickle_module, **pickle_load_args)\u001b[0m\n\u001b[1;32m    711\u001b[0m             \u001b[39mreturn\u001b[39;00m torch\u001b[39m.\u001b[39mjit\u001b[39m.\u001b[39mload(opened_file)\n\u001b[1;32m    712\u001b[0m         \u001b[39mreturn\u001b[39;00m _load(opened_zipfile, map_location, pickle_module, \u001b[39m*\u001b[39m\u001b[39m*\u001b[39mpickle_load_args)\n\u001b[0;32m--> 713\u001b[0m \u001b[39mreturn\u001b[39;00m _legacy_load(opened_file, map_location, pickle_module, \u001b[39m*\u001b[39;49m\u001b[39m*\u001b[39;49mpickle_load_args)\n",
      "File \u001b[0;32m~/anaconda3/envs/diffussion/lib/python3.9/site-packages/torch/serialization.py:738\u001b[0m, in \u001b[0;36m_legacy_load\u001b[0;34m(f, map_location, pickle_module, **pickle_load_args)\u001b[0m\n\u001b[1;32m    734\u001b[0m deserialized_objects: Dict[\u001b[39mint\u001b[39m, Any] \u001b[39m=\u001b[39m {}\n\u001b[1;32m    736\u001b[0m restore_location \u001b[39m=\u001b[39m _get_restore_location(map_location)\n\u001b[0;32m--> 738\u001b[0m \u001b[39mclass\u001b[39;00m \u001b[39mUnpicklerWrapper\u001b[39;00m(pickle_module\u001b[39m.\u001b[39mUnpickler):  \u001b[39m# type: ignore[name-defined]\u001b[39;00m\n\u001b[1;32m    740\u001b[0m     \u001b[39mdef\u001b[39;00m \u001b[39mfind_class\u001b[39m(\u001b[39mself\u001b[39m, mod_name, name):\n\u001b[1;32m    741\u001b[0m         \u001b[39mif\u001b[39;00m \u001b[39mtype\u001b[39m(name) \u001b[39mis\u001b[39;00m \u001b[39mstr\u001b[39m \u001b[39mand\u001b[39;00m \u001b[39m'\u001b[39m\u001b[39mStorage\u001b[39m\u001b[39m'\u001b[39m \u001b[39min\u001b[39;00m name:\n",
      "\u001b[0;31mKeyboardInterrupt\u001b[0m: "
     ]
    }
   ],
   "source": [
    "mnist = MnistSVD(\"data\")\n",
    "mnist_test = MnistSVD(\"data\", train=False)\n",
    "\n",
    "U, S, Vh, label = mnist[np.random.randint(len(mnist))]\n",
    "# plot test_figure\n",
    "plt.imshow(U @ torch.diag(S) @ Vh, cmap='gray')\n",
    "plt.title(f\"digit:{label}\")\n",
    "plt.show()\n",
    "\n",
    "plt.figure(figsize=(30,10))\n",
    "l_ranks = 1\n",
    "u_ranks = 10\n",
    "for jj, ii in enumerate(range(l_ranks - 1, u_ranks,2)):\n",
    "    lr_image = U[:,:(ii+1)] @ torch.diag(S[:(ii+1)]) @ Vh[:(ii+1),:]\n",
    "    plt.subplot(1,u_ranks - l_ranks + 1,jj+1)\n",
    "    plt.imshow(lr_image, cmap='gray')\n",
    "    plt.title(f\"rank:{ii+1}\")\n",
    "plt.show()\n",
    "\n",
    "plt.figure(figsize=(30,10))\n",
    "for jj, ii in enumerate(range(l_ranks - 1, u_ranks,2)):\n",
    "    lr_image = U[:,ii:(ii+1)] @ torch.diag(S[ii:(ii+1)]) @ Vh[ii:(ii+1),:]\n",
    "    plt.subplot(1,u_ranks - l_ranks + 1,jj+1)\n",
    "    plt.imshow(lr_image, cmap='gray')\n",
    "    plt.title(f\"rank:{ii+1}\")\n",
    "plt.show()"
   ]
  },
  {
   "cell_type": "code",
   "execution_count": 13,
   "metadata": {},
   "outputs": [
    {
     "name": "stdout",
     "output_type": "stream",
     "text": [
      "Done!\n"
     ]
    }
   ],
   "source": [
    "# dataloader\n",
    "mnist_train = MnistSVD(\"data\", train_preprocess = True)\n",
    "train_dataloader = DataLoader(mnist_train, batch_size = 64, shuffle = True, num_workers=12,pin_memory=True)"
   ]
  },
  {
   "cell_type": "code",
   "execution_count": 14,
   "metadata": {},
   "outputs": [
    {
     "name": "stdout",
     "output_type": "stream",
     "text": [
      "tensor(27.)\n"
     ]
    },
    {
     "data": {
      "image/png": "[encoded data removed]",
      "text/plain": [
       "<Figure size 432x288 with 1 Axes>"
      ]
     },
     "metadata": {
      "needs_background": "light"
     },
     "output_type": "display_data"
    },
    {
     "data": {
      "image/png": "[encoded data removed]",
      "text/plain": [
       "<Figure size 432x288 with 1 Axes>"
      ]
     },
     "metadata": {
      "needs_background": "light"
     },
     "output_type": "display_data"
    },
    {
     "data": {
      "image/png": "[encoded data removed]",
      "text/plain": [
       "<Figure size 432x288 with 1 Axes>"
      ]
     },
     "metadata": {
      "needs_background": "light"
     },
     "output_type": "display_data"
    }
   ],
   "source": [
    "dt = iter(train_dataloader)\n",
    "inp, out, rank_list = next(dt)\n",
    "\n",
    "check_ind = 12\n",
    "print(rank_list[check_ind])\n",
    "plt.imshow(inp[check_ind][0].numpy(),cmap=\"gray\")\n",
    "plt.show()\n",
    "plt.imshow(out[check_ind][0].numpy(),cmap=\"gray\")\n",
    "plt.show()\n",
    "plt.imshow(inp[check_ind][0].numpy()+ out[check_ind][0].numpy(),cmap=\"gray\")\n",
    "plt.show()"
   ]
  },
  {
   "cell_type": "code",
   "execution_count": 18,
   "metadata": {},
   "outputs": [
    {
     "data": {
      "text/plain": [
       "tensor([[[[0., 0., 0.,  ..., 0., 0., 0.],\n",
       "          [0., 0., 0.,  ..., 0., 0., 0.],\n",
       "          [0., 0., 0.,  ..., 0., 0., 0.],\n",
       "          ...,\n",
       "          [0., 0., 0.,  ..., 0., 0., 0.],\n",
       "          [0., 0., 0.,  ..., 0., 0., 0.],\n",
       "          [0., 0., 0.,  ..., 0., 0., 0.]]],\n",
       "\n",
       "\n",
       "        [[[0., 0., 0.,  ..., 0., 0., 0.],\n",
       "          [0., 0., 0.,  ..., 0., 0., 0.],\n",
       "          [0., 0., 0.,  ..., 0., 0., 0.],\n",
       "          ...,\n",
       "          [-0., -0., -0.,  ..., -0., -0., -0.],\n",
       "          [-0., -0., -0.,  ..., -0., -0., -0.],\n",
       "          [0., 0., 0.,  ..., 0., 0., 0.]]],\n",
       "\n",
       "\n",
       "        [[[0., 0., 0.,  ..., 0., 0., 0.],\n",
       "          [0., 0., 0.,  ..., 0., 0., 0.],\n",
       "          [0., 0., 0.,  ..., 0., 0., 0.],\n",
       "          ...,\n",
       "          [0., 0., 0.,  ..., 0., 0., 0.],\n",
       "          [0., 0., 0.,  ..., 0., 0., 0.],\n",
       "          [0., 0., 0.,  ..., 0., 0., 0.]]],\n",
       "\n",
       "\n",
       "        ...,\n",
       "\n",
       "\n",
       "        [[[0., 0., 0.,  ..., 0., 0., 0.],\n",
       "          [0., 0., 0.,  ..., 0., 0., 0.],\n",
       "          [0., 0., 0.,  ..., 0., 0., 0.],\n",
       "          ...,\n",
       "          [0., 0., 0.,  ..., 0., 0., 0.],\n",
       "          [0., 0., 0.,  ..., 0., 0., 0.],\n",
       "          [0., 0., 0.,  ..., 0., 0., 0.]]],\n",
       "\n",
       "\n",
       "        [[[0., 0., 0.,  ..., 0., 0., 0.],\n",
       "          [0., 0., 0.,  ..., 0., 0., 0.],\n",
       "          [0., 0., 0.,  ..., 0., 0., 0.],\n",
       "          ...,\n",
       "          [0., 0., 0.,  ..., 0., 0., 0.],\n",
       "          [0., 0., 0.,  ..., 0., 0., 0.],\n",
       "          [0., 0., 0.,  ..., 0., 0., 0.]]],\n",
       "\n",
       "\n",
       "        [[[0., 0., 0.,  ..., 0., 0., 0.],\n",
       "          [0., 0., 0.,  ..., 0., 0., 0.],\n",
       "          [0., 0., 0.,  ..., 0., 0., 0.],\n",
       "          ...,\n",
       "          [0., 0., 0.,  ..., 0., 0., 0.],\n",
       "          [0., 0., 0.,  ..., 0., 0., 0.],\n",
       "          [0., 0., 0.,  ..., 0., 0., 0.]]]])"
      ]
     },
     "execution_count": 18,
     "metadata": {},
     "output_type": "execute_result"
    }
   ],
   "source": [
    "inp\n"
   ]
  },
  {
   "cell_type": "code",
   "execution_count": 26,
   "metadata": {},
   "outputs": [
    {
     "data": {
      "text/plain": [
       "<All keys matched successfully>"
      ]
     },
     "execution_count": 26,
     "metadata": {},
     "output_type": "execute_result"
    }
   ],
   "source": [
    "lr = 2e-5\n",
    "wd = 1e-5\n",
    "net = UNet(ranks=28, channels=[64, 128, 256, 512], embed_dim=256).cuda()\n",
    "\n",
    "optimizer = AdamW(net.parameters(), lr = lr, weight_decay=wd)\n",
    "\n",
    "ema_decay = 0.995\n",
    "ema_net = UNet(ranks=28, channels=[64, 128, 256, 512], embed_dim=256).cuda()\n",
    "ema_net.load_state_dict(net.state_dict())"
   ]
  },
  {
   "cell_type": "code",
   "execution_count": 25,
   "metadata": {},
   "outputs": [
    {
     "name": "stdout",
     "output_type": "stream",
     "text": [
      "epoch:1,steps:1000,avg_loss:5058.29717602539,loss:902.8765258789062,avg_loss_frac:12.497267126960732,loss_frac:1.1970940178271792\n"
     ]
    },
    {
     "ename": "KeyboardInterrupt",
     "evalue": "",
     "output_type": "error",
     "traceback": [
      "\u001b[0;31m---------------------------------------------------------------------------\u001b[0m",
      "\u001b[0;31mKeyboardInterrupt\u001b[0m                         Traceback (most recent call last)",
      "\u001b[1;32m/home/zhiwei/research_dev/diffusionPCA/test.ipynb Cell 7\u001b[0m in \u001b[0;36m<cell line: 5>\u001b[0;34m()\u001b[0m\n\u001b[1;32m     <a href='vscode-notebook-cell://ssh-remote%2Bzhiwei0/home/zhiwei/research_dev/diffusionPCA/test.ipynb#X61sdnNjb2RlLXJlbW90ZQ%3D%3D?line=9'>10</a>\u001b[0m \u001b[39m# est_sig, leftv, rightv = net(inp.cuda(),rank_list.cuda())\u001b[39;00m\n\u001b[1;32m     <a href='vscode-notebook-cell://ssh-remote%2Bzhiwei0/home/zhiwei/research_dev/diffusionPCA/test.ipynb#X61sdnNjb2RlLXJlbW90ZQ%3D%3D?line=10'>11</a>\u001b[0m \u001b[39m# loss1 = torch.sum(torch.pow(sig.cuda() - est_sig,2))\u001b[39;00m\n\u001b[1;32m     <a href='vscode-notebook-cell://ssh-remote%2Bzhiwei0/home/zhiwei/research_dev/diffusionPCA/test.ipynb#X61sdnNjb2RlLXJlbW90ZQ%3D%3D?line=11'>12</a>\u001b[0m \u001b[39m# loss2 = torch.sum(torch.pow(leftv - lv.cuda(),2)) / len(lv)\u001b[39;00m\n\u001b[1;32m     <a href='vscode-notebook-cell://ssh-remote%2Bzhiwei0/home/zhiwei/research_dev/diffusionPCA/test.ipynb#X61sdnNjb2RlLXJlbW90ZQ%3D%3D?line=12'>13</a>\u001b[0m \u001b[39m# loss3 = torch.sum(torch.pow(rightv - rv.cuda(),2))/ len(lv)\u001b[39;00m\n\u001b[1;32m     <a href='vscode-notebook-cell://ssh-remote%2Bzhiwei0/home/zhiwei/research_dev/diffusionPCA/test.ipynb#X61sdnNjb2RlLXJlbW90ZQ%3D%3D?line=13'>14</a>\u001b[0m \u001b[39m# loss =  loss2 + loss3\u001b[39;00m\n\u001b[1;32m     <a href='vscode-notebook-cell://ssh-remote%2Bzhiwei0/home/zhiwei/research_dev/diffusionPCA/test.ipynb#X61sdnNjb2RlLXJlbW90ZQ%3D%3D?line=14'>15</a>\u001b[0m loss \u001b[39m=\u001b[39m torch\u001b[39m.\u001b[39msum(torch\u001b[39m.\u001b[39mpow(out\u001b[39m.\u001b[39mcuda() \u001b[39m-\u001b[39m est_out,\u001b[39m2\u001b[39m)) \n\u001b[0;32m---> <a href='vscode-notebook-cell://ssh-remote%2Bzhiwei0/home/zhiwei/research_dev/diffusionPCA/test.ipynb#X61sdnNjb2RlLXJlbW90ZQ%3D%3D?line=15'>16</a>\u001b[0m loss\u001b[39m.\u001b[39;49mbackward()\n\u001b[1;32m     <a href='vscode-notebook-cell://ssh-remote%2Bzhiwei0/home/zhiwei/research_dev/diffusionPCA/test.ipynb#X61sdnNjb2RlLXJlbW90ZQ%3D%3D?line=17'>18</a>\u001b[0m \u001b[39m#torch.nn.utils.clip_grad_norm_(net.parameters(), 1)\u001b[39;00m\n\u001b[1;32m     <a href='vscode-notebook-cell://ssh-remote%2Bzhiwei0/home/zhiwei/research_dev/diffusionPCA/test.ipynb#X61sdnNjb2RlLXJlbW90ZQ%3D%3D?line=18'>19</a>\u001b[0m optimizer\u001b[39m.\u001b[39mstep()\n",
      "File \u001b[0;32m~/anaconda3/envs/diffussion/lib/python3.9/site-packages/torch/_tensor.py:396\u001b[0m, in \u001b[0;36mTensor.backward\u001b[0;34m(self, gradient, retain_graph, create_graph, inputs)\u001b[0m\n\u001b[1;32m    387\u001b[0m \u001b[39mif\u001b[39;00m has_torch_function_unary(\u001b[39mself\u001b[39m):\n\u001b[1;32m    388\u001b[0m     \u001b[39mreturn\u001b[39;00m handle_torch_function(\n\u001b[1;32m    389\u001b[0m         Tensor\u001b[39m.\u001b[39mbackward,\n\u001b[1;32m    390\u001b[0m         (\u001b[39mself\u001b[39m,),\n\u001b[0;32m   (...)\u001b[0m\n\u001b[1;32m    394\u001b[0m         create_graph\u001b[39m=\u001b[39mcreate_graph,\n\u001b[1;32m    395\u001b[0m         inputs\u001b[39m=\u001b[39minputs)\n\u001b[0;32m--> 396\u001b[0m torch\u001b[39m.\u001b[39;49mautograd\u001b[39m.\u001b[39;49mbackward(\u001b[39mself\u001b[39;49m, gradient, retain_graph, create_graph, inputs\u001b[39m=\u001b[39;49minputs)\n",
      "File \u001b[0;32m~/anaconda3/envs/diffussion/lib/python3.9/site-packages/torch/autograd/__init__.py:173\u001b[0m, in \u001b[0;36mbackward\u001b[0;34m(tensors, grad_tensors, retain_graph, create_graph, grad_variables, inputs)\u001b[0m\n\u001b[1;32m    168\u001b[0m     retain_graph \u001b[39m=\u001b[39m create_graph\n\u001b[1;32m    170\u001b[0m \u001b[39m# The reason we repeat same the comment below is that\u001b[39;00m\n\u001b[1;32m    171\u001b[0m \u001b[39m# some Python versions print out the first line of a multi-line function\u001b[39;00m\n\u001b[1;32m    172\u001b[0m \u001b[39m# calls in the traceback and some print out the last line\u001b[39;00m\n\u001b[0;32m--> 173\u001b[0m Variable\u001b[39m.\u001b[39;49m_execution_engine\u001b[39m.\u001b[39;49mrun_backward(  \u001b[39m# Calls into the C++ engine to run the backward pass\u001b[39;49;00m\n\u001b[1;32m    174\u001b[0m     tensors, grad_tensors_, retain_graph, create_graph, inputs,\n\u001b[1;32m    175\u001b[0m     allow_unreachable\u001b[39m=\u001b[39;49m\u001b[39mTrue\u001b[39;49;00m, accumulate_grad\u001b[39m=\u001b[39;49m\u001b[39mTrue\u001b[39;49;00m)\n",
      "\u001b[0;31mKeyboardInterrupt\u001b[0m: "
     ]
    }
   ],
   "source": [
    "epoch = 1000\n",
    "total_loss_frac = 0\n",
    "total_loss = 0\n",
    "steps = 0\n",
    "for ep in range(epoch):\n",
    "    for inp, out, rank_list in train_dataloader:\n",
    "        steps += 1\n",
    "        optimizer.zero_grad()\n",
    "        est_out = net(inp.cuda(),rank_list.cuda())\n",
    "        # est_sig, leftv, rightv = net(inp.cuda(),rank_list.cuda())\n",
    "        # loss1 = torch.sum(torch.pow(sig.cuda() - est_sig,2))\n",
    "        # loss2 = torch.sum(torch.pow(leftv - lv.cuda(),2)) / len(lv)\n",
    "        # loss3 = torch.sum(torch.pow(rightv - rv.cuda(),2))/ len(lv)\n",
    "        # loss =  loss2 + loss3\n",
    "        loss = torch.sum(torch.pow(out.cuda() - est_out,2)) \n",
    "        loss.backward()\n",
    "\n",
    "        #torch.nn.utils.clip_grad_norm_(net.parameters(), 1)\n",
    "        optimizer.step()\n",
    "        total_loss += loss.item()\n",
    "        loss_frac = loss.item() / torch.sum(torch.pow(out.cuda(),2)).item()\n",
    "        total_loss_frac += loss_frac\n",
    "        # total_loss1 += loss1.item()\n",
    "        # total_loss2 += loss2.item()\n",
    "        # total_loss3 += loss3.item()\n",
    "\n",
    "        if steps % 10 == 0:\n",
    "            for param, ema_param in zip(net.parameters(), ema_net.parameters()):\n",
    "                ema_param.data.mul_(ema_decay).add_(param.data, alpha=1 - ema_decay)\n",
    "\n",
    "\n",
    "        if steps % 1000 == 0:\n",
    "            print(f\"epoch:{ep},steps:{steps},avg_loss:{total_loss/steps},loss:{loss.item()},avg_loss_frac:{total_loss_frac/steps},loss_frac:{loss_frac}\")\n",
    "            torch.save(net.state_dict(), \"model.pth\")\n",
    "            torch.save(ema_net.state_dict(), \"ema_model.pth\")\n",
    "            # print(f\"epoch:{ep},steps:{steps},avg_loss:{total_loss/steps} avg_loss1:{total_loss1/steps} avg_loss2:{total_loss2/steps} avg_loss3:{total_loss3/steps}\")"
   ]
  },
  {
   "cell_type": "code",
   "execution_count": 23,
   "metadata": {},
   "outputs": [],
   "source": [
    "est_out = net(inp.cuda(),rank_list.cuda())"
   ]
  },
  {
   "cell_type": "code",
   "execution_count": 1,
   "metadata": {},
   "outputs": [],
   "source": [
    "a=1\n",
    "b=2"
   ]
  },
  {
   "cell_type": "code",
   "execution_count": 25,
   "metadata": {},
   "outputs": [
    {
     "data": {
      "text/plain": [
       "tensor([[[ 5.6479e-02, -1.1676e+00, -4.4864e-01, -9.7046e-01,  4.1485e-01,\n",
       "          -1.2377e+00, -2.3049e-01,  2.4770e-01, -3.0986e-01,  1.0057e-01,\n",
       "          -2.4581e-01,  1.0667e+00,  1.7366e+00, -1.6785e+00, -3.5666e-01,\n",
       "          -5.7569e-01, -2.3749e+00,  1.1727e+00, -3.2671e-02, -8.8155e-01,\n",
       "           9.3106e-01, -4.5995e-01,  3.6894e-01,  6.0930e-01, -8.7397e-01,\n",
       "          -4.8547e-01,  1.2009e+00, -7.6524e-01],\n",
       "         [ 3.3278e-01, -1.6700e+00, -5.0386e-01,  1.4001e-02, -1.3127e+00,\n",
       "           1.0066e+00, -4.6002e-01,  2.4699e+00, -2.2349e+00, -8.4504e-01,\n",
       "          -7.4788e-01, -7.5410e-01, -1.3303e+00, -1.1380e+00,  6.1257e-01,\n",
       "           3.3882e-01,  1.2066e+00,  4.6660e-01, -2.1805e-01,  8.0181e-02,\n",
       "          -8.7942e-02, -3.2966e-01, -9.9576e-01, -3.4315e-01,  1.6682e+00,\n",
       "           8.9445e-01,  2.7336e+00, -3.5397e-01],\n",
       "         [ 5.1443e-01,  1.4704e+00,  1.1699e+00, -1.7487e+00,  6.0826e-01,\n",
       "          -1.2505e+00,  8.3210e-01, -3.9437e-01, -7.5772e-01,  1.4503e+00,\n",
       "          -3.2323e-01, -3.0568e-01,  2.5727e-01, -7.3732e-01, -7.2224e-01,\n",
       "           9.6321e-01,  3.4237e-01, -1.4172e+00,  1.4416e-01, -3.1518e-01,\n",
       "          -1.2906e+00, -1.8148e+00, -1.5583e+00, -1.1424e+00, -1.0576e+00,\n",
       "           2.6064e-01,  2.6867e-01,  1.9111e-01],\n",
       "         [-1.5660e-01, -1.8058e+00, -6.9285e-01,  8.7130e-01,  1.2407e+00,\n",
       "           4.2571e-01, -8.7523e-01,  1.8715e-01,  2.2533e+00, -1.3238e+00,\n",
       "           7.3407e-01, -1.0694e+00,  7.8035e-01, -1.1816e+00,  9.2859e-01,\n",
       "           6.4739e-01,  4.9601e-01,  1.7381e-02, -1.0260e+00,  4.3813e-01,\n",
       "          -1.8887e+00, -7.6610e-01,  2.2664e+00, -1.1575e-01,  1.3743e+00,\n",
       "           1.0068e+00,  1.1973e+00,  8.4381e-01],\n",
       "         [-4.1223e-01,  7.4346e-01,  2.9898e-01, -3.4698e-01,  6.7372e-01,\n",
       "          -1.1710e+00,  8.5948e-01, -1.5628e+00,  3.8109e-01, -4.1456e-01,\n",
       "           1.7128e-01, -9.8182e-01, -5.7953e-01, -3.2648e-01,  4.5311e-01,\n",
       "           2.0488e+00, -6.9642e-01, -5.5710e-01, -6.4654e-02, -2.1223e+00,\n",
       "           1.8248e+00,  4.5353e-01, -4.5447e-01,  2.5858e+00,  1.6136e+00,\n",
       "           1.2808e+00,  5.1226e-02, -3.3484e-01],\n",
       "         [-9.8174e-02,  2.7022e+00,  1.4356e+00,  3.4966e-01,  1.9336e+00,\n",
       "           9.8617e-01,  1.7339e+00,  1.3471e-01, -1.1474e+00,  4.9467e-02,\n",
       "           1.1129e+00, -1.8825e-01,  1.1706e-01, -1.6708e+00, -8.5985e-01,\n",
       "          -4.5373e-01, -9.8089e-01, -7.8888e-01,  1.8843e-01, -6.5333e-01,\n",
       "          -1.7446e+00,  1.4254e-01,  2.7318e-01,  3.2317e-01, -1.5384e-01,\n",
       "           1.6838e+00,  8.3616e-02, -2.0354e-01],\n",
       "         [-7.3553e-01,  4.6073e-02, -1.5541e+00, -3.1660e-01,  1.8386e-01,\n",
       "           2.0703e-01, -2.2382e+00,  5.3027e-01, -1.2209e+00,  1.5484e+00,\n",
       "          -7.3170e-01,  4.9948e-02, -5.0626e-01, -6.3418e-01, -4.3157e-02,\n",
       "          -1.7929e-01, -9.0005e-01, -3.2323e-01, -8.2561e-01,  1.2119e+00,\n",
       "           1.1804e+00,  4.7048e-01,  1.3982e+00, -8.7112e-01, -2.4254e-01,\n",
       "           2.0530e-01, -5.2783e-02,  2.3913e+00],\n",
       "         [ 1.0970e+00, -1.1919e+00, -4.3835e-01,  1.3104e+00,  2.5207e-01,\n",
       "           2.5036e+00,  6.5224e-01, -2.1412e+00,  1.7022e+00, -3.8867e-01,\n",
       "          -4.7559e-01,  1.0466e+00,  7.8761e-01, -2.7648e-01, -2.8463e-01,\n",
       "          -4.1593e-01, -3.1490e-01,  3.8587e-01, -7.1814e-01,  5.6996e-01,\n",
       "           1.4485e+00, -1.4797e-01,  6.2141e-01, -3.4702e-01, -1.7259e-02,\n",
       "          -1.5136e+00, -4.8648e-01,  1.1090e+00],\n",
       "         [-1.5660e-01, -9.4385e-01, -5.2951e-01,  5.5812e-02, -3.7562e-01,\n",
       "          -1.9859e-01, -1.2541e+00,  6.9208e-02,  1.8253e-01,  2.5127e-02,\n",
       "          -5.6308e-01,  4.7424e-01,  5.7973e-01, -2.1482e-01,  3.8944e-01,\n",
       "           4.3159e-01, -1.8826e-01, -6.5484e-01,  3.2895e-02, -1.8136e-01,\n",
       "           5.5081e-01,  1.2096e-01,  3.1423e-01,  1.3461e+00, -8.5321e-02,\n",
       "           4.2948e-01, -3.9077e-01,  2.0899e-01],\n",
       "         [ 1.0312e+00,  1.3086e+00,  2.8129e-01,  3.6300e-01,  8.1704e-01,\n",
       "          -1.2225e+00,  9.6232e-02,  1.0438e+00,  1.9976e-01,  1.5661e-01,\n",
       "          -6.1563e-01,  6.0359e-01, -1.1814e+00, -1.2610e+00, -8.5896e-02,\n",
       "          -2.3122e+00,  7.5747e-01,  2.7972e-01, -1.2810e+00, -1.8846e-01,\n",
       "           4.8629e-01, -1.2150e-01,  5.7699e-01, -2.9699e-01,  4.1399e-02,\n",
       "           8.9061e-01, -1.1056e-01,  1.2521e+00],\n",
       "         [-1.3856e-01,  8.4370e-01, -1.8631e+00,  7.0670e-01,  5.3625e-01,\n",
       "          -4.8870e-01,  1.0792e+00,  6.9211e-01, -1.4204e-02,  2.5241e-01,\n",
       "          -1.6143e-01,  1.0029e+00, -1.4884e+00, -7.4499e-01,  1.6526e+00,\n",
       "           1.3963e-01,  1.8177e+00, -1.0569e+00,  2.1515e-01, -3.8841e-01,\n",
       "          -4.0210e-02, -9.6900e-01, -9.0279e-01, -1.4487e+00, -8.6333e-01,\n",
       "          -3.3325e-01, -1.2626e+00, -5.1703e-01],\n",
       "         [ 3.9194e-01, -1.5091e+00,  7.7414e-02,  7.0798e-01,  7.5578e-01,\n",
       "           3.9146e-01, -1.2682e+00,  5.0862e-01,  1.0476e+00,  1.1905e+00,\n",
       "          -3.9560e-01,  6.5397e-01, -1.4378e+00, -8.4744e-01, -2.4153e-01,\n",
       "           1.7384e-01,  4.4179e-01, -8.2331e-01,  1.0177e+00,  3.6469e-01,\n",
       "           7.4579e-01,  1.0904e+00, -4.6231e-01, -9.6957e-02, -6.5818e-01,\n",
       "           4.2579e-01,  8.7603e-02, -2.1838e-01],\n",
       "         [ 8.3855e-01, -6.6226e-01, -1.3145e+00, -1.6182e+00,  9.9500e-01,\n",
       "          -5.4021e-01,  1.6130e-01, -1.2415e+00,  2.3454e-02, -1.1442e+00,\n",
       "          -2.5049e-01,  3.7979e-01, -8.2304e-01,  1.0750e+00, -1.1860e+00,\n",
       "          -3.3430e-01,  1.1161e-01,  4.7197e-01, -1.1994e+00, -1.9403e+00,\n",
       "          -5.2126e-01,  5.1693e-02, -4.8365e-01, -8.0107e-01, -1.0147e+00,\n",
       "          -1.5554e+00, -4.0430e-01,  3.2455e-01],\n",
       "         [ 1.4793e+00, -8.2768e-01, -5.8983e-01,  9.2735e-01, -9.5108e-01,\n",
       "           2.4206e-01,  8.0263e-01,  1.6801e+00, -2.9498e-02,  3.2151e-01,\n",
       "           5.7266e-01, -8.2212e-01, -5.9038e-01,  1.0597e+00, -4.8512e-01,\n",
       "          -1.3638e+00,  6.0562e-01,  4.1784e-01,  6.8112e-01, -8.2402e-02,\n",
       "           8.2011e-01,  1.1074e+00,  6.3023e-01,  9.2941e-02, -1.7401e-01,\n",
       "          -4.1175e-01,  4.2270e-01,  2.2959e+00],\n",
       "         [ 1.5389e+00, -5.5771e-01,  1.4259e+00,  5.2340e-02, -3.4076e-01,\n",
       "           4.4910e-01,  5.9015e-01,  3.6366e-01, -3.0603e-01, -2.7040e-02,\n",
       "          -7.7665e-01, -6.1376e-01, -9.0411e-01,  6.9400e-01, -4.4856e-01,\n",
       "           3.9725e-01, -1.3980e-01,  6.4438e-01, -1.5217e+00,  6.2621e-01,\n",
       "          -1.4469e+00,  6.9393e-01, -3.2928e-01, -1.0758e+00,  4.1248e-01,\n",
       "          -1.5134e-01, -9.3400e-01, -1.1559e+00],\n",
       "         [-4.8638e-01,  6.4533e-01,  3.6099e-01, -9.4165e-01, -6.0218e-01,\n",
       "           1.1150e+00, -1.0773e+00,  9.1881e-01,  1.2500e-01, -1.3614e+00,\n",
       "          -1.4723e-01,  6.3748e-01,  5.6470e-01, -4.8170e-04, -5.2310e-01,\n",
       "           9.2251e-02,  2.0491e-01, -4.6773e-01,  1.1932e+00,  3.9037e-01,\n",
       "          -3.3134e-01, -6.4685e-01, -1.2717e+00, -1.2267e+00,  1.7151e+00,\n",
       "           6.6150e-01, -3.9787e-01,  9.0855e-02],\n",
       "         [-8.2305e-01, -3.7582e-01,  1.1386e+00, -3.9144e-01,  4.0406e-01,\n",
       "           5.8094e-03,  2.3516e-01,  5.0319e-01, -3.3342e+00,  7.0598e-01,\n",
       "           1.0973e-01,  1.2961e-01,  2.1794e-01, -3.3740e-01,  4.8055e-01,\n",
       "           1.5112e-01,  1.6706e-01, -1.0992e+00,  7.6632e-01, -7.7288e-01,\n",
       "           1.4591e-01,  1.6203e-01, -4.6627e-01,  2.5309e-01, -1.4939e-01,\n",
       "          -9.4067e-02,  2.5158e-01, -1.8699e+00],\n",
       "         [-1.1022e+00,  5.6620e-01,  1.1968e-01,  1.2961e+00, -7.9650e-01,\n",
       "           2.7546e-01, -2.0085e-01,  1.3141e-01, -5.6116e-01,  1.4691e-01,\n",
       "          -2.6403e-01,  2.9115e-01, -6.5293e-01,  5.5022e-01, -6.4940e-02,\n",
       "          -1.0438e+00,  1.2537e+00, -3.5628e-01,  4.2279e-01, -6.1627e-01,\n",
       "          -2.1369e+00,  1.0012e+00,  4.1522e-01,  1.0680e+00, -1.0780e-01,\n",
       "           1.0166e+00, -8.8004e-01, -1.0213e-01],\n",
       "         [-1.4072e+00, -1.2674e-01, -2.3582e-01,  8.6465e-01,  7.6708e-01,\n",
       "          -2.7864e-01,  2.8736e+00, -7.7788e-01, -6.9788e-01,  3.5590e-01,\n",
       "          -9.7122e-01,  6.4480e-01, -6.1836e-01,  6.9919e-01,  9.0901e-01,\n",
       "          -5.4233e-01,  1.0760e-01, -2.1544e-01,  6.4328e-02, -2.2668e+00,\n",
       "          -2.9931e-01, -8.6641e-01, -8.8254e-01,  1.3534e+00, -1.4141e+00,\n",
       "          -8.2004e-01,  1.2065e+00, -3.9725e-01],\n",
       "         [-5.2287e-01, -1.5158e-01,  1.7240e+00, -2.7214e-01,  1.8613e+00,\n",
       "           5.7679e-01,  1.5105e+00, -1.9605e+00,  1.0517e+00,  7.0687e-01,\n",
       "          -1.1789e+00,  1.1658e-01,  1.0519e+00, -1.8223e-01, -4.5008e-01,\n",
       "           8.6497e-01, -5.2814e-02, -4.3635e-01, -3.2469e-01,  4.6622e-01,\n",
       "           2.8738e-01, -9.9936e-01, -8.8018e-01, -1.2871e+00,  8.0803e-01,\n",
       "           8.0849e-01,  1.3610e+00,  1.7545e+00],\n",
       "         [ 1.5903e+00,  6.8449e-01,  5.8883e-01,  2.1038e+00,  8.3073e-01,\n",
       "          -3.5155e-01,  9.8048e-01, -2.5416e-01, -1.9507e+00, -7.6993e-01,\n",
       "          -7.6737e-02, -4.2539e-01,  6.4113e-01, -7.3511e-01,  1.0137e+00,\n",
       "           1.0650e+00,  2.0526e+00,  5.5440e-01,  3.1033e-01, -7.0901e-01,\n",
       "           6.4048e-01, -1.0634e+00, -3.6521e-01,  1.6370e+00, -9.2675e-01,\n",
       "           1.5196e+00, -3.4705e-01, -1.5659e+00],\n",
       "         [ 3.1821e-01,  4.2289e-01, -1.7961e-01,  6.5879e-01, -7.0149e-01,\n",
       "          -5.8718e-01,  5.3423e-01,  7.2193e-01,  8.7763e-01, -4.9602e-01,\n",
       "          -5.1220e-01,  1.1680e+00,  1.3643e-01, -1.8996e-01, -1.2195e+00,\n",
       "          -3.9794e-01,  3.3243e-01,  1.7390e-01, -2.1052e+00, -7.9520e-02,\n",
       "           6.0682e-01,  5.0791e-01, -1.7459e+00,  1.7206e-01, -1.3554e+00,\n",
       "          -7.9235e-01,  1.9782e+00, -5.6021e-01],\n",
       "         [-5.5873e-01, -3.3554e-01,  3.4868e-01, -1.7553e+00, -7.8086e-01,\n",
       "           7.7596e-01,  6.6400e-01, -1.1094e+00, -5.1391e-01, -3.4816e-01,\n",
       "           1.2065e+00, -4.1828e-01,  1.0811e+00, -3.4084e-01, -4.2178e-01,\n",
       "           5.3546e-01,  3.8115e-01, -3.5067e-01, -6.1086e-01, -5.7886e-02,\n",
       "          -7.7895e-02,  2.8228e-02, -6.6673e-01, -1.8099e+00,  8.1311e-01,\n",
       "           5.3711e-01, -1.6540e+00, -4.4645e-02],\n",
       "         [-1.4162e-01,  1.8824e+00, -8.9713e-01, -1.8619e-01,  1.1974e+00,\n",
       "          -6.4311e-01, -1.2463e+00, -1.6376e+00,  3.8206e-01,  4.0661e-01,\n",
       "          -2.6295e-01,  8.2753e-01, -1.6619e+00, -7.2411e-01, -8.0209e-02,\n",
       "           3.6153e-01, -1.0558e-01,  3.5629e-01, -5.3283e-01,  8.2691e-01,\n",
       "          -5.8301e-01, -1.5228e+00,  1.0057e+00, -3.6113e-02,  1.0782e+00,\n",
       "          -2.1488e+00,  1.4317e+00, -3.6773e-01],\n",
       "         [ 8.4757e-01, -3.2721e-01, -1.8304e+00,  6.5777e-01, -5.7804e-01,\n",
       "           2.4992e-01,  7.0029e-01,  9.3873e-01,  6.2291e-01,  6.1278e-01,\n",
       "           5.4075e-01, -7.5600e-01,  5.0619e-01,  2.1334e-01,  8.7809e-01,\n",
       "           5.1016e-01,  1.3418e-01, -3.1591e-01, -5.7493e-01,  8.7526e-02,\n",
       "           2.9889e-01,  1.5996e-01, -6.2628e-01,  5.7207e-02,  1.0927e+00,\n",
       "          -1.5681e-01, -3.5979e-02,  5.2674e-01],\n",
       "         [-8.3083e-01, -1.1075e+00, -2.9176e-01, -1.9281e-01,  1.9822e-01,\n",
       "          -1.2541e+00,  1.3120e-01,  1.1993e+00, -2.0730e+00,  1.8836e+00,\n",
       "          -4.1454e-01, -2.0273e+00,  5.4587e-01, -8.8819e-01,  5.5806e-02,\n",
       "          -1.1703e+00,  2.2441e-01, -1.7622e-01,  5.0483e-01, -1.6833e+00,\n",
       "          -1.1952e+00, -7.9868e-01, -7.3688e-01,  5.7232e-01,  2.4793e-01,\n",
       "          -9.2388e-01,  2.3072e-02,  4.5226e-01],\n",
       "         [ 1.1409e+00,  1.4953e+00,  8.4778e-01,  5.2097e-01, -1.4452e-01,\n",
       "           1.3257e+00, -8.3064e-01, -9.0301e-01,  4.3682e-01, -2.6982e-01,\n",
       "          -4.9195e-01, -2.8911e-01,  6.2041e-02,  6.7289e-01,  1.4687e+00,\n",
       "          -8.0841e-01,  2.7119e+00, -6.3676e-01, -6.5614e-01,  1.1370e+00,\n",
       "           2.0160e+00, -1.0556e+00, -2.0302e-01,  1.5777e+00,  1.3771e+00,\n",
       "           8.5811e-01,  1.1896e+00, -1.0611e+00],\n",
       "         [ 2.0966e-01,  5.5119e-01, -5.7025e-01,  2.8512e-01, -3.6389e-01,\n",
       "          -2.2692e-01, -7.8480e-01,  7.2550e-01, -7.4776e-01,  9.7065e-01,\n",
       "           7.4113e-01,  1.5073e-01, -4.9452e-01, -3.4076e-01,  6.5881e-01,\n",
       "           3.5446e-01, -1.3247e+00,  1.4700e+00, -9.5091e-01,  6.5716e-01,\n",
       "          -3.1183e-01,  4.8713e-01, -1.1823e+00,  5.4718e-01, -9.0508e-01,\n",
       "           3.1883e-02, -3.0694e-01,  1.6987e-01]]], device='cuda:0',\n",
       "       grad_fn=<SelectBackward0>)"
      ]
     },
     "execution_count": 25,
     "metadata": {},
     "output_type": "execute_result"
    }
   ],
   "source": [
    "est_out[0]"
   ]
  },
  {
   "cell_type": "markdown",
   "metadata": {},
   "source": [
    "# inference"
   ]
  },
  {
   "cell_type": "code",
   "execution_count": 8,
   "metadata": {},
   "outputs": [
    {
     "name": "stdout",
     "output_type": "stream",
     "text": [
      "Done!\n"
     ]
    },
    {
     "data": {
      "image/png": "[encoded data removed]",
      "text/plain": [
       "<Figure size 432x288 with 1 Axes>"
      ]
     },
     "metadata": {
      "needs_background": "light"
     },
     "output_type": "display_data"
    },
    {
     "data": {
      "image/png": "[encoded data removed]",
      "text/plain": [
       "<Figure size 2160x720 with 4 Axes>"
      ]
     },
     "metadata": {
      "needs_background": "light"
     },
     "output_type": "display_data"
    },
    {
     "data": {
      "image/png": "[encoded data removed]",
      "text/plain": [
       "<Figure size 2160x720 with 4 Axes>"
      ]
     },
     "metadata": {
      "needs_background": "light"
     },
     "output_type": "display_data"
    }
   ],
   "source": [
    "mnist = MnistSVD(\"data\", train=True)\n",
    "\n",
    "U, S, Vh, label = mnist[np.random.randint(len(mnist))]\n",
    "# plot test_figure\n",
    "plt.imshow(U @ torch.diag(S) @ Vh, cmap='gray')\n",
    "plt.title(f\"digit:{label}\")\n",
    "plt.show()\n",
    "\n",
    "plt.figure(figsize=(30,10))\n",
    "l_ranks = 7\n",
    "u_ranks = 10\n",
    "for jj, ii in enumerate(range(l_ranks - 1, u_ranks,1)):\n",
    "    lr_image = U[:,:(ii+1)] @ torch.diag(S[:(ii+1)]) @ Vh[:(ii+1),:]\n",
    "    plt.subplot(1,u_ranks - l_ranks + 1,jj+1)\n",
    "    plt.imshow(lr_image, cmap='gray')\n",
    "    plt.title(f\"rank:{ii+1}\")\n",
    "plt.show()\n",
    "\n",
    "# plot test_figure with figsize = (20,10)\n",
    "plt.figure(figsize=(20,10))\n",
    "l_ranks = 7\n",
    "u_ranks = 10\n",
    "for jj, ii in enumerate(range(l_ranks - 1, u_ranks,1)):\n",
    "    lr_image = U[:,:(ii+1)] @ torch.diag(S[:(ii+1)]) @ Vh[:(ii+1),:]\n",
    "    plt.subplot(1,u_ranks - l_ranks + 1,jj+1)\n",
    "    plt.imshow(lr_image, cmap='gray')\n",
    "    plt.title(f\"rank:{ii+1}\")  \n",
    "\n",
    "\n",
    "\n",
    "plt.figure(figsize=(30,10))\n",
    "for jj, ii in enumerate(range(l_ranks - 1, u_ranks,1)):\n",
    "    lr_image = U[:,ii:(ii+1)] @ torch.diag(S[ii:(ii+1)]) @ Vh[ii:(ii+1),:]\n",
    "    plt.subplot(1,u_ranks - l_ranks + 1,jj+1)\n",
    "    plt.imshow(lr_image, cmap='gray')\n",
    "    plt.title(f\"rank:{ii+1}\")\n",
    "plt.show()"
   ]
  },
  {
   "cell_type": "code",
   "execution_count": 33,
   "metadata": {},
   "outputs": [
    {
     "data": {
      "image/png": "[encoded data removed]",
      "text/plain": [
       "<Figure size 432x288 with 1 Axes>"
      ]
     },
     "metadata": {
      "needs_background": "light"
     },
     "output_type": "display_data"
    },
    {
     "data": {
      "image/png": "[encoded data removed]",
      "text/plain": [
       "<Figure size 432x288 with 1 Axes>"
      ]
     },
     "metadata": {
      "needs_background": "light"
     },
     "output_type": "display_data"
    }
   ],
   "source": [
    "now_fig = inp[0][0]\n",
    "plt.imshow(now_fig,cmap=\"gray\")\n",
    "plt.show()\n",
    "now_fig = now_fig.unsqueeze(0).unsqueeze(0).cuda()\n",
    "with torch.no_grad():\n",
    "    for now_rank in range(1,5):\n",
    "        infer_fig = now_fig - 0.2 * net(now_fig,torch.FloatTensor([8]).cuda())\n",
    "plt.imshow(infer_fig.cpu()[0][0],cmap=\"gray\")\n",
    "plt.show()\n"
   ]
  },
  {
   "cell_type": "code",
   "execution_count": 28,
   "metadata": {},
   "outputs": [
    {
     "data": {
      "image/png": "[encoded data removed]",
      "text/plain": [
       "<Figure size 2160x720 with 5 Axes>"
      ]
     },
     "metadata": {
      "needs_background": "light"
     },
     "output_type": "display_data"
    }
   ],
   "source": [
    "plt.figure(figsize=(30,10))\n",
    "for jj, ii in enumerate(range(l_ranks - 1, u_ranks,2)):\n",
    "    lr_image = infer_fig[ii]\n",
    "    plt.subplot(1,u_ranks - l_ranks + 1,jj+1)\n",
    "    plt.imshow(lr_image, cmap='gray')\n",
    "    plt.title(f\"rank:{ii+1}\")\n",
    "plt.show()"
   ]
  },
  {
   "cell_type": "markdown",
   "metadata": {},
   "source": [
    "# test trained"
   ]
  },
  {
   "cell_type": "code",
   "execution_count": 36,
   "metadata": {},
   "outputs": [
    {
     "data": {
      "text/plain": [
       "<All keys matched successfully>"
      ]
     },
     "execution_count": 36,
     "metadata": {},
     "output_type": "execute_result"
    }
   ],
   "source": [
    "\n",
    "net = UNet_MLP(28*28, scale = 12, block_layer = 2).cuda()\n",
    "net.load_state_dict(torch.load(\"model.pth\"))\n",
    "\n"
   ]
  },
  {
   "cell_type": "code",
   "execution_count": 39,
   "metadata": {},
   "outputs": [
    {
     "name": "stdout",
     "output_type": "stream",
     "text": [
      "Done!\n"
     ]
    }
   ],
   "source": [
    "mnist = MnistSVD(\"data\", train=False)"
   ]
  },
  {
   "cell_type": "code",
   "execution_count": 43,
   "metadata": {},
   "outputs": [
    {
     "data": {
      "image/png": "[encoded data removed]",
      "text/plain": [
       "<Figure size 432x288 with 1 Axes>"
      ]
     },
     "metadata": {
      "needs_background": "light"
     },
     "output_type": "display_data"
    },
    {
     "data": {
      "image/png": "[encoded data removed]",
      "text/plain": [
       "<Figure size 432x288 with 1 Axes>"
      ]
     },
     "metadata": {
      "needs_background": "light"
     },
     "output_type": "display_data"
    },
    {
     "data": {
      "image/png": "[encoded data removed]",
      "text/plain": [
       "<Figure size 432x288 with 1 Axes>"
      ]
     },
     "metadata": {
      "needs_background": "light"
     },
     "output_type": "display_data"
    },
    {
     "data": {
      "image/png": "[encoded data removed]",
      "text/plain": [
       "<Figure size 432x288 with 1 Axes>"
      ]
     },
     "metadata": {
      "needs_background": "light"
     },
     "output_type": "display_data"
    }
   ],
   "source": [
    "test_U, test_S, test_Vh, test_label = mnist[np.random.randint(len(mnist))]\n",
    "inp = test_U[:,:1] @ torch.diag(test_S[:1]) @ test_Vh[:1,:]\n",
    "out = test_U[:,1:] @ torch.diag(test_S[1:]) @ test_Vh[1:,:]\n",
    "\n",
    "inp_flat = inp.flatten().unsqueeze(0).cuda()\n",
    "out_flat = out.flatten().unsqueeze(0).cuda()\n",
    "\n",
    "with torch.no_grad():\n",
    "    est_out = net(inp_flat)\n",
    "\n",
    "plt.imshow(inp,cmap=\"gray\")\n",
    "plt.show()\n",
    "plt.imshow(out,cmap=\"gray\")\n",
    "plt.show()\n",
    "plt.imshow(est_out.cpu().reshape(28,28),cmap=\"gray\")\n",
    "plt.show()\n",
    "plt.imshow(est_out.cpu().reshape(28,28)+inp,cmap=\"gray\")\n",
    "plt.show()"
   ]
  },
  {
   "cell_type": "code",
   "execution_count": 5,
   "metadata": {},
   "outputs": [
    {
     "ename": "NameError",
     "evalue": "name 'test_U' is not defined",
     "output_type": "error",
     "traceback": [
      "\u001b[0;31m---------------------------------------------------------------------------\u001b[0m",
      "\u001b[0;31mNameError\u001b[0m                                 Traceback (most recent call last)",
      "\u001b[1;32m/home/zhiwei/research_dev/diffusionPCA/test.ipynb Cell 19\u001b[0m in \u001b[0;36m<cell line: 1>\u001b[0;34m()\u001b[0m\n\u001b[0;32m----> <a href='vscode-notebook-cell://ssh-remote%2Bzhiwei0/home/zhiwei/research_dev/diffusionPCA/test.ipynb#X26sdnNjb2RlLXJlbW90ZQ%3D%3D?line=0'>1</a>\u001b[0m now_fig \u001b[39m=\u001b[39m test_U[:,:\u001b[39m1\u001b[39m] \u001b[39m@\u001b[39m torch\u001b[39m.\u001b[39mdiag(test_S[:\u001b[39m1\u001b[39m]) \u001b[39m@\u001b[39m test_Vh[:\u001b[39m1\u001b[39m,:]\n\u001b[1;32m      <a href='vscode-notebook-cell://ssh-remote%2Bzhiwei0/home/zhiwei/research_dev/diffusionPCA/test.ipynb#X26sdnNjb2RlLXJlbW90ZQ%3D%3D?line=1'>2</a>\u001b[0m plt\u001b[39m.\u001b[39mimshow(now_fig,cmap\u001b[39m=\u001b[39m\u001b[39m\"\u001b[39m\u001b[39mgray\u001b[39m\u001b[39m\"\u001b[39m)\n\u001b[1;32m      <a href='vscode-notebook-cell://ssh-remote%2Bzhiwei0/home/zhiwei/research_dev/diffusionPCA/test.ipynb#X26sdnNjb2RlLXJlbW90ZQ%3D%3D?line=2'>3</a>\u001b[0m plt\u001b[39m.\u001b[39mshow()\n",
      "\u001b[0;31mNameError\u001b[0m: name 'test_U' is not defined"
     ]
    }
   ],
   "source": [
    "now_fig = test_U[:,:1] @ torch.diag(test_S[:1]) @ test_Vh[:1,:]\n",
    "plt.imshow(now_fig,cmap=\"gray\")\n",
    "plt.show()\n",
    "now_fig = .unsqueeze(0).unsqueeze(0).cuda()\n",
    "with torch.no_grad():\n",
    "    for now_rank in range(1,2):\n",
    "        for now_step in range(1,2):\n",
    "            print(now_rank, now_step)\n",
    "            now_fig = now_fig + net(now_fig.view(inp.shape[0],-1).cuda()).view(*inp.shape)\n",
    "            #now_U, now_S, now_Vh = torch.svd(now_fig[0][0])\n",
    "            #now_fig = now_U[:,:(now_rank+1)] @ torch.diag(now_S[:(now_rank+1)]) @ now_Vh[:(now_rank+1),:]\n",
    "            plt.imshow(now_fig.cpu()[0][0],cmap=\"gray\")\n",
    "            plt.show()"
   ]
  },
  {
   "cell_type": "code",
   "execution_count": 16,
   "metadata": {},
   "outputs": [],
   "source": [
    "# test MLP\n",
    "class MLP(torch.nn.Module):\n",
    "    def __init__(self, input_dim, hidden_dim1,hidden_dim2, output_dim):\n",
    "        super(MLP, self).__init__()\n",
    "        self.fc1 = torch.nn.Linear(input_dim, hidden_dim1)\n",
    "        self.fc2 = torch.nn.Linear(hidden_dim1, hidden_dim2)\n",
    "        self.fc3 = torch.nn.Linear(hidden_dim2, output_dim)\n",
    "        self.relu = torch.nn.ReLU()\n",
    "        \n",
    "    def forward(self, x):\n",
    "        x = self.fc1(x)\n",
    "        x = self.relu(x)\n",
    "        x = self.fc2(x)\n",
    "        x = self.relu(x)\n",
    "        x = self.fc3(x)\n",
    "        x = self.relu(x)\n",
    "        return x\n",
    "    \n",
    "net = MLP(784, 784, 784, 784).cuda()\n"
   ]
  },
  {
   "cell_type": "code",
   "execution_count": null,
   "metadata": {},
   "outputs": [],
   "source": [
    "optimizer = torch.optim.Adam(net.parameters(), lr=1e-3)"
   ]
  }
 ],
 "metadata": {
  "kernelspec": {
   "display_name": "diffussion",
   "language": "python",
   "name": "python3"
  },
  "language_info": {
   "codemirror_mode": {
    "name": "ipython",
    "version": 3
   },
   "file_extension": ".py",
   "mimetype": "text/x-python",
   "name": "python",
   "nbconvert_exporter": "python",
   "pygments_lexer": "ipython3",
   "version": "3.9.12"
  },
  "orig_nbformat": 4
 },
 "nbformat": 4,
 "nbformat_minor": 2
}
